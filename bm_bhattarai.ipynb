{
 "cells": [
  {
   "cell_type": "code",
   "execution_count": 2,
   "metadata": {},
   "outputs": [],
   "source": [
    "import numpy as np\n",
    "import pandas as pd\n",
    "import matplotlib.pyplot as plt\n",
    "import seaborn as sns\n",
    "\n",
    "\n",
    "import urllib\n",
    "import requests\n",
    "import json\n",
    "import chess.pgn\n",
    "from glob import glob"
   ]
  },
  {
   "cell_type": "code",
   "execution_count": 68,
   "metadata": {},
   "outputs": [
    {
     "name": "stdout",
     "output_type": "stream",
     "text": [
      "bm_bhattarai\n"
     ]
    }
   ],
   "source": [
    "username = \"bm_bhattarai\"\n",
    "pgn_archive_links = requests.get(f'https://api.chess.com/pub/player/{username}/games/archives')\n",
    "print(username)"
   ]
  },
  {
   "cell_type": "code",
   "execution_count": 69,
   "metadata": {},
   "outputs": [],
   "source": [
    "for url in json.loads(pgn_archive_links.text)['archives']:\n",
    "    filepath = './bm_bhattarai/'+username + url.split(\"/\")[7] + url.split(\"/\")[8]\n",
    "    urllib.request.urlretrieve(url + \"/pgn\",filepath)"
   ]
  },
  {
   "cell_type": "code",
   "execution_count": 6,
   "metadata": {},
   "outputs": [],
   "source": [
    "pgn_files = glob(\"../Chess com/bm_bhattarai/*\")"
   ]
  },
  {
   "cell_type": "code",
   "execution_count": 7,
   "metadata": {},
   "outputs": [],
   "source": [
    "headers = []\n",
    "games = []\n",
    "for pgn in pgn_files:\n",
    "    pgn = open(pgn)\n",
    "\n",
    "    while True:\n",
    "        \n",
    "        game = chess.pgn.read_game(pgn)\n",
    "\n",
    "        if game is None:\n",
    "            break\n",
    "        headers.append(game.headers) \n",
    "        games.append(game.mainline_moves())\n",
    "\n",
    "        "
   ]
  },
  {
   "cell_type": "code",
   "execution_count": 8,
   "metadata": {},
   "outputs": [],
   "source": [
    "df = pd.DataFrame(headers)"
   ]
  },
  {
   "cell_type": "code",
   "execution_count": 9,
   "metadata": {},
   "outputs": [],
   "source": [
    "df['moves'] = games "
   ]
  },
  {
   "cell_type": "code",
   "execution_count": 40,
   "metadata": {},
   "outputs": [
    {
     "data": {
      "text/html": [
       "<div>\n",
       "<style scoped>\n",
       "    .dataframe tbody tr th:only-of-type {\n",
       "        vertical-align: middle;\n",
       "    }\n",
       "\n",
       "    .dataframe tbody tr th {\n",
       "        vertical-align: top;\n",
       "    }\n",
       "\n",
       "    .dataframe thead th {\n",
       "        text-align: right;\n",
       "    }\n",
       "</style>\n",
       "<table border=\"1\" class=\"dataframe\">\n",
       "  <thead>\n",
       "    <tr style=\"text-align: right;\">\n",
       "      <th></th>\n",
       "      <th>Black</th>\n",
       "      <th>BlackElo</th>\n",
       "      <th>CurrentPosition</th>\n",
       "      <th>Date</th>\n",
       "      <th>ECO</th>\n",
       "      <th>ECOUrl</th>\n",
       "      <th>EndDate</th>\n",
       "      <th>EndTime</th>\n",
       "      <th>Event</th>\n",
       "      <th>FEN</th>\n",
       "      <th>...</th>\n",
       "      <th>StartTime</th>\n",
       "      <th>Termination</th>\n",
       "      <th>TimeControl</th>\n",
       "      <th>Timezone</th>\n",
       "      <th>Tournament</th>\n",
       "      <th>UTCDate</th>\n",
       "      <th>UTCTime</th>\n",
       "      <th>White</th>\n",
       "      <th>WhiteElo</th>\n",
       "      <th>moves</th>\n",
       "    </tr>\n",
       "  </thead>\n",
       "  <tbody>\n",
       "    <tr>\n",
       "      <th>0</th>\n",
       "      <td>BM_Bhattarai</td>\n",
       "      <td>445</td>\n",
       "      <td>2r5/2P5/8/pP1k4/P1R5/3K4/2P3P1/8 b - -</td>\n",
       "      <td>2022.05.04</td>\n",
       "      <td>D02</td>\n",
       "      <td>https://www.chess.com/openings/Queens-Pawn-Ope...</td>\n",
       "      <td>2022.05.04</td>\n",
       "      <td>16:27:39</td>\n",
       "      <td>Live Chess</td>\n",
       "      <td>NaN</td>\n",
       "      <td>...</td>\n",
       "      <td>15:59:56</td>\n",
       "      <td>Game drawn by agreement</td>\n",
       "      <td>900+10</td>\n",
       "      <td>UTC</td>\n",
       "      <td>NaN</td>\n",
       "      <td>2022.05.04</td>\n",
       "      <td>15:59:56</td>\n",
       "      <td>suraj410</td>\n",
       "      <td>1424</td>\n",
       "      <td>1. d4 { [%clk 0:15:10] } 1... d5 { [%clk 0:15:...</td>\n",
       "    </tr>\n",
       "    <tr>\n",
       "      <th>1</th>\n",
       "      <td>Andrea850</td>\n",
       "      <td>394</td>\n",
       "      <td>rnbqkbnr/ppppppp1/8/7p/4P3/5N2/PPPP1PPP/RNBQKB...</td>\n",
       "      <td>2021.09.02</td>\n",
       "      <td>B00</td>\n",
       "      <td>https://www.chess.com/openings/Kings-Pawn-Open...</td>\n",
       "      <td>2021.09.02</td>\n",
       "      <td>10:19:16</td>\n",
       "      <td>Live Chess</td>\n",
       "      <td>NaN</td>\n",
       "      <td>...</td>\n",
       "      <td>10:18:57</td>\n",
       "      <td>BM_Bhattarai won by resignation</td>\n",
       "      <td>600</td>\n",
       "      <td>UTC</td>\n",
       "      <td>NaN</td>\n",
       "      <td>2021.09.02</td>\n",
       "      <td>10:18:57</td>\n",
       "      <td>BM_Bhattarai</td>\n",
       "      <td>495</td>\n",
       "      <td>1. e4 { [%clk 0:09:58] } 1... h5 { [%clk 0:09:...</td>\n",
       "    </tr>\n",
       "  </tbody>\n",
       "</table>\n",
       "<p>2 rows × 25 columns</p>\n",
       "</div>"
      ],
      "text/plain": [
       "          Black BlackElo                                    CurrentPosition  \\\n",
       "0  BM_Bhattarai      445             2r5/2P5/8/pP1k4/P1R5/3K4/2P3P1/8 b - -   \n",
       "1     Andrea850      394  rnbqkbnr/ppppppp1/8/7p/4P3/5N2/PPPP1PPP/RNBQKB...   \n",
       "\n",
       "         Date  ECO                                             ECOUrl  \\\n",
       "0  2022.05.04  D02  https://www.chess.com/openings/Queens-Pawn-Ope...   \n",
       "1  2021.09.02  B00  https://www.chess.com/openings/Kings-Pawn-Open...   \n",
       "\n",
       "      EndDate   EndTime       Event  FEN  ... StartTime  \\\n",
       "0  2022.05.04  16:27:39  Live Chess  NaN  ...  15:59:56   \n",
       "1  2021.09.02  10:19:16  Live Chess  NaN  ...  10:18:57   \n",
       "\n",
       "                       Termination TimeControl Timezone Tournament  \\\n",
       "0          Game drawn by agreement      900+10      UTC        NaN   \n",
       "1  BM_Bhattarai won by resignation         600      UTC        NaN   \n",
       "\n",
       "      UTCDate   UTCTime         White WhiteElo  \\\n",
       "0  2022.05.04  15:59:56      suraj410     1424   \n",
       "1  2021.09.02  10:18:57  BM_Bhattarai      495   \n",
       "\n",
       "                                               moves  \n",
       "0  1. d4 { [%clk 0:15:10] } 1... d5 { [%clk 0:15:...  \n",
       "1  1. e4 { [%clk 0:09:58] } 1... h5 { [%clk 0:09:...  \n",
       "\n",
       "[2 rows x 25 columns]"
      ]
     },
     "execution_count": 40,
     "metadata": {},
     "output_type": "execute_result"
    }
   ],
   "source": [
    "df.head(2)"
   ]
  },
  {
   "cell_type": "code",
   "execution_count": 10,
   "metadata": {},
   "outputs": [
    {
     "data": {
      "text/plain": [
       "(466, 25)"
      ]
     },
     "execution_count": 10,
     "metadata": {},
     "output_type": "execute_result"
    }
   ],
   "source": [
    "df.shape"
   ]
  },
  {
   "cell_type": "markdown",
   "metadata": {},
   "source": [
    "### Analysis of my games in Black"
   ]
  },
  {
   "cell_type": "code",
   "execution_count": 11,
   "metadata": {},
   "outputs": [],
   "source": [
    "blacks = df[df['Black']=='BM_Bhattarai']\n",
    "blacks_won = blacks[blacks['Result']=='0-1']"
   ]
  },
  {
   "cell_type": "code",
   "execution_count": 12,
   "metadata": {},
   "outputs": [
    {
     "name": "stdout",
     "output_type": "stream",
     "text": [
      "Number of black game :  227\n",
      "Number of black game won :  103\n",
      "Win Percentage in Black : 45.37444933920705\n"
     ]
    }
   ],
   "source": [
    "print('Number of black game : ',blacks.shape[0])\n",
    "print('Number of black game won : ',blacks_won.shape[0])\n",
    "print('Win Percentage in Black :',(blacks_won.shape[0]/blacks.shape[0])*100)\n"
   ]
  },
  {
   "cell_type": "code",
   "execution_count": 13,
   "metadata": {},
   "outputs": [],
   "source": [
    "whites = df[df['White']=='BM_Bhattarai']\n",
    "whites_won = whites[whites['Result']=='1-0']"
   ]
  },
  {
   "cell_type": "markdown",
   "metadata": {},
   "source": [
    "#### Similar in Whites"
   ]
  },
  {
   "cell_type": "code",
   "execution_count": 14,
   "metadata": {},
   "outputs": [
    {
     "name": "stdout",
     "output_type": "stream",
     "text": [
      "Number of white game :  239\n",
      "Number of white game won :  97\n",
      "Win Percentage in White : 40.58577405857741\n"
     ]
    }
   ],
   "source": [
    "print('Number of white game : ',whites.shape[0])\n",
    "print('Number of white game won : ',whites_won.shape[0])\n",
    "print('Win Percentage in White :',(whites_won.shape[0]/whites.shape[0])*100)"
   ]
  },
  {
   "cell_type": "code",
   "execution_count": 15,
   "metadata": {},
   "outputs": [
    {
     "data": {
      "text/plain": [
       "Index(['Black', 'BlackElo', 'CurrentPosition', 'Date', 'ECO', 'ECOUrl',\n",
       "       'EndDate', 'EndTime', 'Event', 'FEN', 'Link', 'Result', 'Round',\n",
       "       'SetUp', 'Site', 'StartTime', 'Termination', 'TimeControl', 'Timezone',\n",
       "       'Tournament', 'UTCDate', 'UTCTime', 'White', 'WhiteElo', 'moves'],\n",
       "      dtype='object')"
      ]
     },
     "execution_count": 15,
     "metadata": {},
     "output_type": "execute_result"
    }
   ],
   "source": [
    "df.columns"
   ]
  },
  {
   "cell_type": "code",
   "execution_count": 16,
   "metadata": {},
   "outputs": [
    {
     "data": {
      "text/html": [
       "<div>\n",
       "<style scoped>\n",
       "    .dataframe tbody tr th:only-of-type {\n",
       "        vertical-align: middle;\n",
       "    }\n",
       "\n",
       "    .dataframe tbody tr th {\n",
       "        vertical-align: top;\n",
       "    }\n",
       "\n",
       "    .dataframe thead th {\n",
       "        text-align: right;\n",
       "    }\n",
       "</style>\n",
       "<table border=\"1\" class=\"dataframe\">\n",
       "  <thead>\n",
       "    <tr style=\"text-align: right;\">\n",
       "      <th></th>\n",
       "      <th>Black</th>\n",
       "      <th>BlackElo</th>\n",
       "      <th>CurrentPosition</th>\n",
       "      <th>Date</th>\n",
       "      <th>ECO</th>\n",
       "      <th>ECOUrl</th>\n",
       "      <th>EndDate</th>\n",
       "      <th>EndTime</th>\n",
       "      <th>Event</th>\n",
       "      <th>FEN</th>\n",
       "      <th>...</th>\n",
       "      <th>StartTime</th>\n",
       "      <th>Termination</th>\n",
       "      <th>TimeControl</th>\n",
       "      <th>Timezone</th>\n",
       "      <th>Tournament</th>\n",
       "      <th>UTCDate</th>\n",
       "      <th>UTCTime</th>\n",
       "      <th>White</th>\n",
       "      <th>WhiteElo</th>\n",
       "      <th>moves</th>\n",
       "    </tr>\n",
       "  </thead>\n",
       "  <tbody>\n",
       "    <tr>\n",
       "      <th>0</th>\n",
       "      <td>BM_Bhattarai</td>\n",
       "      <td>445</td>\n",
       "      <td>2r5/2P5/8/pP1k4/P1R5/3K4/2P3P1/8 b - -</td>\n",
       "      <td>2022.05.04</td>\n",
       "      <td>D02</td>\n",
       "      <td>https://www.chess.com/openings/Queens-Pawn-Ope...</td>\n",
       "      <td>2022.05.04</td>\n",
       "      <td>16:27:39</td>\n",
       "      <td>Live Chess</td>\n",
       "      <td>NaN</td>\n",
       "      <td>...</td>\n",
       "      <td>15:59:56</td>\n",
       "      <td>Game drawn by agreement</td>\n",
       "      <td>900+10</td>\n",
       "      <td>UTC</td>\n",
       "      <td>NaN</td>\n",
       "      <td>2022.05.04</td>\n",
       "      <td>15:59:56</td>\n",
       "      <td>suraj410</td>\n",
       "      <td>1424</td>\n",
       "      <td>1. d4 { [%clk 0:15:10] } 1... d5 { [%clk 0:15:...</td>\n",
       "    </tr>\n",
       "    <tr>\n",
       "      <th>1</th>\n",
       "      <td>Andrea850</td>\n",
       "      <td>394</td>\n",
       "      <td>rnbqkbnr/ppppppp1/8/7p/4P3/5N2/PPPP1PPP/RNBQKB...</td>\n",
       "      <td>2021.09.02</td>\n",
       "      <td>B00</td>\n",
       "      <td>https://www.chess.com/openings/Kings-Pawn-Open...</td>\n",
       "      <td>2021.09.02</td>\n",
       "      <td>10:19:16</td>\n",
       "      <td>Live Chess</td>\n",
       "      <td>NaN</td>\n",
       "      <td>...</td>\n",
       "      <td>10:18:57</td>\n",
       "      <td>BM_Bhattarai won by resignation</td>\n",
       "      <td>600</td>\n",
       "      <td>UTC</td>\n",
       "      <td>NaN</td>\n",
       "      <td>2021.09.02</td>\n",
       "      <td>10:18:57</td>\n",
       "      <td>BM_Bhattarai</td>\n",
       "      <td>495</td>\n",
       "      <td>1. e4 { [%clk 0:09:58] } 1... h5 { [%clk 0:09:...</td>\n",
       "    </tr>\n",
       "    <tr>\n",
       "      <th>2</th>\n",
       "      <td>BM_Bhattarai</td>\n",
       "      <td>486</td>\n",
       "      <td>1k1R1b1r/p5p1/1p2N3/n1p1P2p/6n1/B5P1/P4PBP/1R4...</td>\n",
       "      <td>2021.09.02</td>\n",
       "      <td>B29</td>\n",
       "      <td>https://www.chess.com/openings/Sicilian-Defens...</td>\n",
       "      <td>2021.09.02</td>\n",
       "      <td>10:18:46</td>\n",
       "      <td>Live Chess</td>\n",
       "      <td>NaN</td>\n",
       "      <td>...</td>\n",
       "      <td>10:02:44</td>\n",
       "      <td>OrlinDraganov667 won by checkmate</td>\n",
       "      <td>600</td>\n",
       "      <td>UTC</td>\n",
       "      <td>NaN</td>\n",
       "      <td>2021.09.02</td>\n",
       "      <td>10:02:44</td>\n",
       "      <td>OrlinDraganov667</td>\n",
       "      <td>548</td>\n",
       "      <td>1. e4 { [%clk 0:10:00] } 1... c5 { [%clk 0:09:...</td>\n",
       "    </tr>\n",
       "    <tr>\n",
       "      <th>3</th>\n",
       "      <td>BM_Bhattarai</td>\n",
       "      <td>205</td>\n",
       "      <td>6Q1/p7/1p6/5pNk/bP5P/2P5/P4P2/RN2R1K1 w - -</td>\n",
       "      <td>2021.09.02</td>\n",
       "      <td>B01</td>\n",
       "      <td>https://www.chess.com/openings/Scandinavian-De...</td>\n",
       "      <td>2021.09.02</td>\n",
       "      <td>06:59:52</td>\n",
       "      <td>Live Chess</td>\n",
       "      <td>NaN</td>\n",
       "      <td>...</td>\n",
       "      <td>06:54:39</td>\n",
       "      <td>BM_Bhattarai won on time</td>\n",
       "      <td>180</td>\n",
       "      <td>UTC</td>\n",
       "      <td>NaN</td>\n",
       "      <td>2021.09.02</td>\n",
       "      <td>06:54:39</td>\n",
       "      <td>singinguncle</td>\n",
       "      <td>237</td>\n",
       "      <td>1. e4 { [%clk 0:02:59.7] } 1... d5 { [%clk 0:0...</td>\n",
       "    </tr>\n",
       "    <tr>\n",
       "      <th>4</th>\n",
       "      <td>s4mi1</td>\n",
       "      <td>245</td>\n",
       "      <td>8/8/3k1R2/8/4K3/8/8/8 b - -</td>\n",
       "      <td>2021.09.02</td>\n",
       "      <td>A00</td>\n",
       "      <td>https://www.chess.com/openings/Barnes-Opening-...</td>\n",
       "      <td>2021.09.02</td>\n",
       "      <td>06:54:01</td>\n",
       "      <td>Live Chess</td>\n",
       "      <td>NaN</td>\n",
       "      <td>...</td>\n",
       "      <td>06:47:43</td>\n",
       "      <td>BM_Bhattarai won on time</td>\n",
       "      <td>180</td>\n",
       "      <td>UTC</td>\n",
       "      <td>NaN</td>\n",
       "      <td>2021.09.02</td>\n",
       "      <td>06:47:43</td>\n",
       "      <td>BM_Bhattarai</td>\n",
       "      <td>193</td>\n",
       "      <td>1. e4 { [%clk 0:02:59.2] } 1... d5 { [%clk 0:0...</td>\n",
       "    </tr>\n",
       "  </tbody>\n",
       "</table>\n",
       "<p>5 rows × 25 columns</p>\n",
       "</div>"
      ],
      "text/plain": [
       "          Black BlackElo                                    CurrentPosition  \\\n",
       "0  BM_Bhattarai      445             2r5/2P5/8/pP1k4/P1R5/3K4/2P3P1/8 b - -   \n",
       "1     Andrea850      394  rnbqkbnr/ppppppp1/8/7p/4P3/5N2/PPPP1PPP/RNBQKB...   \n",
       "2  BM_Bhattarai      486  1k1R1b1r/p5p1/1p2N3/n1p1P2p/6n1/B5P1/P4PBP/1R4...   \n",
       "3  BM_Bhattarai      205        6Q1/p7/1p6/5pNk/bP5P/2P5/P4P2/RN2R1K1 w - -   \n",
       "4         s4mi1      245                        8/8/3k1R2/8/4K3/8/8/8 b - -   \n",
       "\n",
       "         Date  ECO                                             ECOUrl  \\\n",
       "0  2022.05.04  D02  https://www.chess.com/openings/Queens-Pawn-Ope...   \n",
       "1  2021.09.02  B00  https://www.chess.com/openings/Kings-Pawn-Open...   \n",
       "2  2021.09.02  B29  https://www.chess.com/openings/Sicilian-Defens...   \n",
       "3  2021.09.02  B01  https://www.chess.com/openings/Scandinavian-De...   \n",
       "4  2021.09.02  A00  https://www.chess.com/openings/Barnes-Opening-...   \n",
       "\n",
       "      EndDate   EndTime       Event  FEN  ... StartTime  \\\n",
       "0  2022.05.04  16:27:39  Live Chess  NaN  ...  15:59:56   \n",
       "1  2021.09.02  10:19:16  Live Chess  NaN  ...  10:18:57   \n",
       "2  2021.09.02  10:18:46  Live Chess  NaN  ...  10:02:44   \n",
       "3  2021.09.02  06:59:52  Live Chess  NaN  ...  06:54:39   \n",
       "4  2021.09.02  06:54:01  Live Chess  NaN  ...  06:47:43   \n",
       "\n",
       "                         Termination TimeControl Timezone Tournament  \\\n",
       "0            Game drawn by agreement      900+10      UTC        NaN   \n",
       "1    BM_Bhattarai won by resignation         600      UTC        NaN   \n",
       "2  OrlinDraganov667 won by checkmate         600      UTC        NaN   \n",
       "3           BM_Bhattarai won on time         180      UTC        NaN   \n",
       "4           BM_Bhattarai won on time         180      UTC        NaN   \n",
       "\n",
       "      UTCDate   UTCTime             White WhiteElo  \\\n",
       "0  2022.05.04  15:59:56          suraj410     1424   \n",
       "1  2021.09.02  10:18:57      BM_Bhattarai      495   \n",
       "2  2021.09.02  10:02:44  OrlinDraganov667      548   \n",
       "3  2021.09.02  06:54:39      singinguncle      237   \n",
       "4  2021.09.02  06:47:43      BM_Bhattarai      193   \n",
       "\n",
       "                                               moves  \n",
       "0  1. d4 { [%clk 0:15:10] } 1... d5 { [%clk 0:15:...  \n",
       "1  1. e4 { [%clk 0:09:58] } 1... h5 { [%clk 0:09:...  \n",
       "2  1. e4 { [%clk 0:10:00] } 1... c5 { [%clk 0:09:...  \n",
       "3  1. e4 { [%clk 0:02:59.7] } 1... d5 { [%clk 0:0...  \n",
       "4  1. e4 { [%clk 0:02:59.2] } 1... d5 { [%clk 0:0...  \n",
       "\n",
       "[5 rows x 25 columns]"
      ]
     },
     "execution_count": 16,
     "metadata": {},
     "output_type": "execute_result"
    }
   ],
   "source": [
    "df.head()"
   ]
  },
  {
   "cell_type": "markdown",
   "metadata": {},
   "source": [
    "#### Total Number of Games Drawn"
   ]
  },
  {
   "cell_type": "code",
   "execution_count": 17,
   "metadata": {},
   "outputs": [],
   "source": [
    "draws = df[df['Result']=='1/2-1/2']"
   ]
  },
  {
   "cell_type": "code",
   "execution_count": 18,
   "metadata": {},
   "outputs": [
    {
     "data": {
      "text/plain": [
       "33"
      ]
     },
     "execution_count": 18,
     "metadata": {},
     "output_type": "execute_result"
    }
   ],
   "source": [
    "draws.shape[0]"
   ]
  },
  {
   "cell_type": "code",
   "execution_count": 19,
   "metadata": {},
   "outputs": [
    {
     "data": {
      "image/png": "[encoded data removed]",
      "text/plain": [
       "<Figure size 1000x500 with 1 Axes>"
      ]
     },
     "metadata": {},
     "output_type": "display_data"
    }
   ],
   "source": [
    "sns.set_theme(font_scale=1.2,style=\"darkgrid\")\n",
    "plt.figure(figsize=(10,5))\n",
    "plt.pie(x=[\n",
    "    whites_won.shape[0]+blacks_won.shape[0],\n",
    "    df.shape[0]-(whites_won.shape[0]+blacks_won.shape[0])-draws.shape[0],\n",
    "    draws.shape[0]\n",
    "    ],\n",
    "    labels=['Won','Loss','Draw'])\n",
    "plt.title('Chess.com Game Result')\n",
    "plt.show()"
   ]
  },
  {
   "cell_type": "markdown",
   "metadata": {},
   "source": [
    "#### Add a new Column name Outcome(i.e Result) in favour of Us"
   ]
  },
  {
   "cell_type": "code",
   "execution_count": 20,
   "metadata": {},
   "outputs": [],
   "source": [
    "outcome = []\n",
    "for i in range(len(df)):\n",
    "    if df.iloc[i]['Black']=='BM_Bhattarai' and df.iloc[i]['Result']=='0-1' or df.iloc[i]['White']=='BM_Bhattarai' and df.iloc[i]['Result']=='1-0':\n",
    "        outcome.append('Win')\n",
    "    elif df.iloc[i]['Result']=='1/2-1/2':\n",
    "        outcome.append('Draw')\n",
    "    else:\n",
    "        outcome.append('Loss')"
   ]
  },
  {
   "cell_type": "markdown",
   "metadata": {},
   "source": [
    "#### Add a new Column name Color (Black/White)"
   ]
  },
  {
   "cell_type": "code",
   "execution_count": 21,
   "metadata": {},
   "outputs": [],
   "source": [
    "color = []\n",
    "for i in range(len(df)):\n",
    "    if df.iloc[i]['Black'] == 'BM_Bhattarai':\n",
    "        color.append('Black')\n",
    "    else:\n",
    "        color.append('White')"
   ]
  },
  {
   "cell_type": "markdown",
   "metadata": {},
   "source": [
    "#### Similarly, Add a new Column name Format of Game"
   ]
  },
  {
   "cell_type": "code",
   "execution_count": 45,
   "metadata": {},
   "outputs": [
    {
     "data": {
      "text/plain": [
       "600         144\n",
       "300         123\n",
       "60           83\n",
       "180          71\n",
       "900+10       23\n",
       "60+1         13\n",
       "1200          4\n",
       "300+5         2\n",
       "1/86400       1\n",
       "1/604800      1\n",
       "180+2         1\n",
       "Name: TimeControl, dtype: int64"
      ]
     },
     "execution_count": 45,
     "metadata": {},
     "output_type": "execute_result"
    }
   ],
   "source": [
    "df['TimeControl'].value_counts()"
   ]
  },
  {
   "cell_type": "code",
   "execution_count": 55,
   "metadata": {},
   "outputs": [],
   "source": [
    "format = []\n",
    "for i in range(len(df)):\n",
    "    if df.iloc[i]['TimeControl'] == '60' or df.iloc[i]['TimeControl'] == '60+1':\n",
    "        format.append('Bullet')\n",
    "    elif '180' in df.iloc[i]['TimeControl'] or '300' in df.iloc[i]['TimeControl']:\n",
    "        format.append('Biltz')\n",
    "    elif df.iloc[i]['TimeControl'] == '600':\n",
    "        format.append('Rapid')\n",
    "    else:\n",
    "        format.append('Classical')"
   ]
  },
  {
   "cell_type": "code",
   "execution_count": 56,
   "metadata": {},
   "outputs": [],
   "source": [
    "df['Format'] = format\n",
    "df['Color']=color\n",
    "df['Outcome']=outcome"
   ]
  },
  {
   "cell_type": "code",
   "execution_count": 100,
   "metadata": {},
   "outputs": [
    {
     "data": {
      "text/plain": [
       "Index(['Black', 'BlackElo', 'CurrentPosition', 'Date', 'ECO', 'ECOUrl',\n",
       "       'EndDate', 'EndTime', 'Event', 'FEN', 'Link', 'Result', 'Round',\n",
       "       'SetUp', 'Site', 'StartTime', 'Termination', 'TimeControl', 'Timezone',\n",
       "       'Tournament', 'UTCDate', 'UTCTime', 'White', 'WhiteElo', 'moves',\n",
       "       'Color', 'Outcome'],\n",
       "      dtype='object')"
      ]
     },
     "execution_count": 100,
     "metadata": {},
     "output_type": "execute_result"
    }
   ],
   "source": [
    "df.columns"
   ]
  },
  {
   "cell_type": "code",
   "execution_count": 23,
   "metadata": {},
   "outputs": [
    {
     "data": {
      "text/html": [
       "<div>\n",
       "<style scoped>\n",
       "    .dataframe tbody tr th:only-of-type {\n",
       "        vertical-align: middle;\n",
       "    }\n",
       "\n",
       "    .dataframe tbody tr th {\n",
       "        vertical-align: top;\n",
       "    }\n",
       "\n",
       "    .dataframe thead th {\n",
       "        text-align: right;\n",
       "    }\n",
       "</style>\n",
       "<table border=\"1\" class=\"dataframe\">\n",
       "  <thead>\n",
       "    <tr style=\"text-align: right;\">\n",
       "      <th>Outcome</th>\n",
       "      <th>Draw</th>\n",
       "      <th>Loss</th>\n",
       "      <th>Win</th>\n",
       "    </tr>\n",
       "    <tr>\n",
       "      <th>Color</th>\n",
       "      <th></th>\n",
       "      <th></th>\n",
       "      <th></th>\n",
       "    </tr>\n",
       "  </thead>\n",
       "  <tbody>\n",
       "    <tr>\n",
       "      <th>Black</th>\n",
       "      <td>14</td>\n",
       "      <td>110</td>\n",
       "      <td>103</td>\n",
       "    </tr>\n",
       "    <tr>\n",
       "      <th>White</th>\n",
       "      <td>19</td>\n",
       "      <td>123</td>\n",
       "      <td>97</td>\n",
       "    </tr>\n",
       "  </tbody>\n",
       "</table>\n",
       "</div>"
      ],
      "text/plain": [
       "Outcome  Draw  Loss  Win\n",
       "Color                   \n",
       "Black      14   110  103\n",
       "White      19   123   97"
      ]
     },
     "execution_count": 23,
     "metadata": {},
     "output_type": "execute_result"
    }
   ],
   "source": [
    "pd.crosstab(df['Color'],df['Outcome'])"
   ]
  },
  {
   "cell_type": "code",
   "execution_count": 44,
   "metadata": {},
   "outputs": [
    {
     "data": {
      "text/plain": [
       "<matplotlib.legend.Legend at 0x7f5d4c72e560>"
      ]
     },
     "execution_count": 44,
     "metadata": {},
     "output_type": "execute_result"
    },
    {
     "data": {
      "image/png": "[encoded data removed]",
      "text/plain": [
       "<Figure size 640x480 with 1 Axes>"
      ]
     },
     "metadata": {},
     "output_type": "display_data"
    }
   ],
   "source": [
    "sns.set_theme(font_scale=1.1,style='darkgrid')\n",
    "pd.crosstab(df['Outcome'],df['Color']).plot(kind='bar',title='Result of Chess.com Games by Color',rot=0,color=['teal','orchid']).legend(loc='upper left',fontsize=12)"
   ]
  },
  {
   "cell_type": "code",
   "execution_count": 57,
   "metadata": {},
   "outputs": [
    {
     "data": {
      "text/html": [
       "<div>\n",
       "<style scoped>\n",
       "    .dataframe tbody tr th:only-of-type {\n",
       "        vertical-align: middle;\n",
       "    }\n",
       "\n",
       "    .dataframe tbody tr th {\n",
       "        vertical-align: top;\n",
       "    }\n",
       "\n",
       "    .dataframe thead th {\n",
       "        text-align: right;\n",
       "    }\n",
       "</style>\n",
       "<table border=\"1\" class=\"dataframe\">\n",
       "  <thead>\n",
       "    <tr style=\"text-align: right;\">\n",
       "      <th>Outcome</th>\n",
       "      <th>Draw</th>\n",
       "      <th>Loss</th>\n",
       "      <th>Win</th>\n",
       "    </tr>\n",
       "    <tr>\n",
       "      <th>Format</th>\n",
       "      <th></th>\n",
       "      <th></th>\n",
       "      <th></th>\n",
       "    </tr>\n",
       "  </thead>\n",
       "  <tbody>\n",
       "    <tr>\n",
       "      <th>Biltz</th>\n",
       "      <td>12</td>\n",
       "      <td>104</td>\n",
       "      <td>81</td>\n",
       "    </tr>\n",
       "    <tr>\n",
       "      <th>Bullet</th>\n",
       "      <td>2</td>\n",
       "      <td>47</td>\n",
       "      <td>47</td>\n",
       "    </tr>\n",
       "    <tr>\n",
       "      <th>Classical</th>\n",
       "      <td>2</td>\n",
       "      <td>17</td>\n",
       "      <td>10</td>\n",
       "    </tr>\n",
       "    <tr>\n",
       "      <th>Rapid</th>\n",
       "      <td>17</td>\n",
       "      <td>65</td>\n",
       "      <td>62</td>\n",
       "    </tr>\n",
       "  </tbody>\n",
       "</table>\n",
       "</div>"
      ],
      "text/plain": [
       "Outcome    Draw  Loss  Win\n",
       "Format                    \n",
       "Biltz        12   104   81\n",
       "Bullet        2    47   47\n",
       "Classical     2    17   10\n",
       "Rapid        17    65   62"
      ]
     },
     "execution_count": 57,
     "metadata": {},
     "output_type": "execute_result"
    }
   ],
   "source": [
    "pd.crosstab(df['Format'],df['Outcome'])"
   ]
  },
  {
   "cell_type": "code",
   "execution_count": 62,
   "metadata": {},
   "outputs": [
    {
     "data": {
      "text/plain": [
       "<matplotlib.legend.Legend at 0x7f5d5003b670>"
      ]
     },
     "execution_count": 62,
     "metadata": {},
     "output_type": "execute_result"
    },
    {
     "data": {
      "image/png": "[encoded data removed]",
      "text/plain": [
       "<Figure size 640x480 with 1 Axes>"
      ]
     },
     "metadata": {},
     "output_type": "display_data"
    }
   ],
   "source": [
    "pd.crosstab(df['Format'],df['Outcome']).plot(kind='bar',title='Result of Chess.com Games by Format',rot=0,color=['b','r','g']).legend(loc='upper right',fontsize=12)"
   ]
  },
  {
   "cell_type": "code",
   "execution_count": 67,
   "metadata": {},
   "outputs": [
    {
     "data": {
      "text/plain": [
       "<Mainline at 0x7f5da4150be0 (1. e4 h5 2. Nf3)>"
      ]
     },
     "execution_count": 67,
     "metadata": {},
     "output_type": "execute_result"
    }
   ],
   "source": [
    "df.iloc[1].moves"
   ]
  },
  {
   "cell_type": "code",
   "execution_count": null,
   "metadata": {},
   "outputs": [],
   "source": []
  }
 ],
 "metadata": {
  "kernelspec": {
   "display_name": "Python 3.10.6 64-bit",
   "language": "python",
   "name": "python3"
  },
  "language_info": {
   "codemirror_mode": {
    "name": "ipython",
    "version": 3
   },
   "file_extension": ".py",
   "mimetype": "text/x-python",
   "name": "python",
   "nbconvert_exporter": "python",
   "pygments_lexer": "ipython3",
   "version": "3.10.6"
  },
  "orig_nbformat": 4,
  "vscode": {
   "interpreter": {
    "hash": "916dbcbb3f70747c44a77c7bcd40155683ae19c65e1c03b4aa3499c5328201f1"
   }
  }
 },
 "nbformat": 4,
 "nbformat_minor": 2
}
